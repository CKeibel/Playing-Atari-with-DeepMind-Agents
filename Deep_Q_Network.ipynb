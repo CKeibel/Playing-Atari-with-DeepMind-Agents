{
  "nbformat": 4,
  "nbformat_minor": 0,
  "metadata": {
    "colab": {
      "name": "Deep Q-Network.ipynb",
      "provenance": [],
      "collapsed_sections": [],
      "toc_visible": true,
      "authorship_tag": "ABX9TyOutpfChhpJ/jwzAvSxcHv0"
    },
    "kernelspec": {
      "name": "python3",
      "display_name": "Python 3"
    }
  },
  "cells": [
    {
      "cell_type": "markdown",
      "metadata": {
        "id": "wPYGrtwbxTtx"
      },
      "source": [
        "# **Human-level control through deep reinforcement learning**\n",
        "[Mnih, V., Kavukcuoglu, K., Silver, D. et al. Human-level control through deep reinforcement learning. Nature 518, 529–533 (2015).](https://www.nature.com/articles/nature14236)"
      ]
    },
    {
      "cell_type": "markdown",
      "metadata": {
        "id": "PsXXEtCxycRo"
      },
      "source": [
        "## Preprocessing\n",
        "<p>\n",
        "\"First, to encode a single frame we take the maximum value for each pixel colour value over the frame being encoded and the previous frame. This was necessary to remove flickering that is present in games where some objects appear only in even frames while other objects appear only in odd frames, an artefact caused by the limited number of sprites Atari 2600 can display at once.\"\n",
        "</p>\n",
        "\n"
      ]
    },
    {
      "cell_type": "code",
      "metadata": {
        "id": "jklohu5Lw4DR"
      },
      "source": [
        "import gym\n",
        "\n",
        "# Code"
      ],
      "execution_count": 2,
      "outputs": []
    },
    {
      "cell_type": "markdown",
      "metadata": {
        "id": "1qbICNF503Km"
      },
      "source": [
        "<p>\n",
        "\"Second, we then extract\n",
        "the Y channel, also known as luminance, from the RGB frame and rescale it to\n",
        "84x84.\"\n",
        "</p>\n",
        "[stable-baslines](https://github.com/hill-a/stable-baselines/blob/master/stable_baselines/common/atari_wrappers.py#L277)"
      ]
    },
    {
      "cell_type": "code",
      "metadata": {
        "id": "C0Sgusyk1GPK"
      },
      "source": [
        "class WarpFrame(gym.ObservationWrapper):\n",
        "    def __init__(self, env):\n",
        "        \"\"\"\n",
        "        Warp frames to 84x84 as done in the Nature paper and later work.\n",
        "        :param env: (Gym Environment) the environment\n",
        "        \"\"\"\n",
        "        gym.ObservationWrapper.__init__(self, env)\n",
        "        self.width = 84\n",
        "        self.height = 84\n",
        "        self.observation_space = spaces.Box(low=0, high=255, shape=(self.height, self.width, 1),\n",
        "                                            dtype=env.observation_space.dtype)\n",
        "\n",
        "    def observation(self, frame):\n",
        "        \"\"\"\n",
        "        returns the current observation from a frame\n",
        "        :param frame: ([int] or [float]) environment frame\n",
        "        :return: ([int] or [float]) the observation\n",
        "        \"\"\"\n",
        "        frame = cv2.cvtColor(frame, cv2.COLOR_RGB2GRAY)\n",
        "        frame = cv2.resize(frame, (self.width, self.height), interpolation=cv2.INTER_AREA)\n",
        "        return frame[:, :, None]"
      ],
      "execution_count": 4,
      "outputs": []
    }
  ]
}